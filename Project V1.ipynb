{
 "cells": [
  {
   "cell_type": "code",
   "execution_count": 39,
   "metadata": {},
   "outputs": [],
   "source": [
    "import pandas as pd\n",
    "import numpy as np\n",
    "from sklearn.model_selection import train_test_split\n",
    "from sklearn.metrics import classification_report,accuracy_score,confusion_matrix\n",
    "from sklearn.neural_network import MLPClassifier\n",
    "import time\n",
    "import datetime\n",
    "from sklearn.preprocessing import LabelEncoder"
   ]
  },
  {
   "cell_type": "code",
   "execution_count": 24,
   "metadata": {},
   "outputs": [
    {
     "name": "stderr",
     "output_type": "stream",
     "text": [
      "/home/noman/.local/lib/python3.8/site-packages/IPython/core/interactiveshell.py:3146: DtypeWarning: Columns (2) have mixed types.Specify dtype option on import or set low_memory=False.\n",
      "  has_raised = await self.run_ast_nodes(code_ast.body, cell_name,\n"
     ]
    }
   ],
   "source": [
    "data = pd.read_csv('COVID-19_Case_Surveillance_Public_Use_Data.csv')"
   ]
  },
  {
   "cell_type": "code",
   "execution_count": 25,
   "metadata": {},
   "outputs": [
    {
     "data": {
      "text/plain": [
       "<bound method NDFrame.head of                   cdc_case_earliest_dt  cdc_report_dt pos_spec_dt    onset_dt  \\\n",
       "0                            2020/10/23    2021/01/28  2020/10/23         NaN   \n",
       "1                            2020/10/23    2020/10/23  2020/10/23         NaN   \n",
       "2                            2020/10/23    2020/10/25  2020/10/23  2020/10/23   \n",
       "3                            2020/10/23    2020/10/25  2020/10/23         NaN   \n",
       "4                            2020/10/23    2020/10/26  2020/10/23         NaN   \n",
       "...                                 ...           ...         ...         ...   \n",
       "6756715                      2021/03/08    2021/03/23         NaN  2021/03/08   \n",
       "6756716                  \"error\" : true           NaN         NaN         NaN   \n",
       "6756717    \"message\" : \"Internal error\"           NaN         NaN         NaN   \n",
       "6756718                  \"status\" : 500           NaN         NaN         NaN   \n",
       "6756719                               }           NaN         NaN         NaN   \n",
       "\n",
       "                    current_status     sex    age_group  \\\n",
       "0        Laboratory-confirmed case  Female  0 - 9 Years   \n",
       "1        Laboratory-confirmed case  Female  0 - 9 Years   \n",
       "2        Laboratory-confirmed case  Female  0 - 9 Years   \n",
       "3        Laboratory-confirmed case  Female  0 - 9 Years   \n",
       "4        Laboratory-confirmed case  Female  0 - 9 Years   \n",
       "...                            ...     ...          ...   \n",
       "6756715                   Laborat{     NaN          NaN   \n",
       "6756716                        NaN     NaN          NaN   \n",
       "6756717                        NaN     NaN          NaN   \n",
       "6756718                        NaN     NaN          NaN   \n",
       "6756719                        NaN     NaN          NaN   \n",
       "\n",
       "        race_ethnicity_combined  hosp_yn   icu_yn death_yn medcond_yn  \n",
       "0           Black, Non-Hispanic  Missing  Missing       No    Missing  \n",
       "1           Black, Non-Hispanic       No  Unknown       No         No  \n",
       "2           Black, Non-Hispanic       No  Missing  Missing    Missing  \n",
       "3           Black, Non-Hispanic  Missing  Missing  Missing    Missing  \n",
       "4           Black, Non-Hispanic       No  Missing       No    Missing  \n",
       "...                         ...      ...      ...      ...        ...  \n",
       "6756715                     NaN      NaN      NaN      NaN        NaN  \n",
       "6756716                     NaN      NaN      NaN      NaN        NaN  \n",
       "6756717                     NaN      NaN      NaN      NaN        NaN  \n",
       "6756718                     NaN      NaN      NaN      NaN        NaN  \n",
       "6756719                     NaN      NaN      NaN      NaN        NaN  \n",
       "\n",
       "[6756720 rows x 12 columns]>"
      ]
     },
     "execution_count": 25,
     "metadata": {},
     "output_type": "execute_result"
    }
   ],
   "source": [
    "data.head"
   ]
  },
  {
   "cell_type": "code",
   "execution_count": 26,
   "metadata": {},
   "outputs": [
    {
     "data": {
      "text/plain": [
       "Index(['cdc_case_earliest_dt ', 'cdc_report_dt', 'pos_spec_dt', 'onset_dt',\n",
       "       'current_status', 'sex', 'age_group', 'race_ethnicity_combined',\n",
       "       'hosp_yn', 'icu_yn', 'death_yn', 'medcond_yn'],\n",
       "      dtype='object')"
      ]
     },
     "execution_count": 26,
     "metadata": {},
     "output_type": "execute_result"
    }
   ],
   "source": [
    "data.columns"
   ]
  },
  {
   "cell_type": "code",
   "execution_count": null,
   "metadata": {},
   "outputs": [],
   "source": []
  },
  {
   "cell_type": "code",
   "execution_count": 27,
   "metadata": {},
   "outputs": [
    {
     "name": "stderr",
     "output_type": "stream",
     "text": [
      "<ipython-input-27-40d25733020f>:2: SettingWithCopyWarning: \n",
      "A value is trying to be set on a copy of a slice from a DataFrame.\n",
      "Try using .loc[row_indexer,col_indexer] = value instead\n",
      "\n",
      "See the caveats in the documentation: https://pandas.pydata.org/pandas-docs/stable/user_guide/indexing.html#returning-a-view-versus-a-copy\n",
      "  data['cdc_case_earliest_dt '] = data['cdc_case_earliest_dt '].apply(lambda x:time.mktime(datetime.datetime.strptime(x, \"%Y/%m/%d\").timetuple()))\n",
      "<ipython-input-27-40d25733020f>:3: SettingWithCopyWarning: \n",
      "A value is trying to be set on a copy of a slice from a DataFrame.\n",
      "Try using .loc[row_indexer,col_indexer] = value instead\n",
      "\n",
      "See the caveats in the documentation: https://pandas.pydata.org/pandas-docs/stable/user_guide/indexing.html#returning-a-view-versus-a-copy\n",
      "  data['cdc_report_dt'] = data['cdc_report_dt'].apply(lambda x:time.mktime(datetime.datetime.strptime(x, \"%Y/%m/%d\").timetuple()))\n",
      "<ipython-input-27-40d25733020f>:4: SettingWithCopyWarning: \n",
      "A value is trying to be set on a copy of a slice from a DataFrame.\n",
      "Try using .loc[row_indexer,col_indexer] = value instead\n",
      "\n",
      "See the caveats in the documentation: https://pandas.pydata.org/pandas-docs/stable/user_guide/indexing.html#returning-a-view-versus-a-copy\n",
      "  data['pos_spec_dt'] = data['pos_spec_dt'].apply(lambda x:time.mktime(datetime.datetime.strptime(x, \"%Y/%m/%d\").timetuple()))\n",
      "<ipython-input-27-40d25733020f>:5: SettingWithCopyWarning: \n",
      "A value is trying to be set on a copy of a slice from a DataFrame.\n",
      "Try using .loc[row_indexer,col_indexer] = value instead\n",
      "\n",
      "See the caveats in the documentation: https://pandas.pydata.org/pandas-docs/stable/user_guide/indexing.html#returning-a-view-versus-a-copy\n",
      "  data['onset_dt'] = data['onset_dt'].apply(lambda x:time.mktime(datetime.datetime.strptime(x, \"%Y/%m/%d\").timetuple()))\n"
     ]
    },
    {
     "data": {
      "text/html": [
       "<div>\n",
       "<style scoped>\n",
       "    .dataframe tbody tr th:only-of-type {\n",
       "        vertical-align: middle;\n",
       "    }\n",
       "\n",
       "    .dataframe tbody tr th {\n",
       "        vertical-align: top;\n",
       "    }\n",
       "\n",
       "    .dataframe thead th {\n",
       "        text-align: right;\n",
       "    }\n",
       "</style>\n",
       "<table border=\"1\" class=\"dataframe\">\n",
       "  <thead>\n",
       "    <tr style=\"text-align: right;\">\n",
       "      <th></th>\n",
       "      <th>cdc_case_earliest_dt</th>\n",
       "      <th>cdc_report_dt</th>\n",
       "      <th>pos_spec_dt</th>\n",
       "      <th>onset_dt</th>\n",
       "      <th>current_status</th>\n",
       "      <th>sex</th>\n",
       "      <th>age_group</th>\n",
       "      <th>race_ethnicity_combined</th>\n",
       "      <th>hosp_yn</th>\n",
       "      <th>icu_yn</th>\n",
       "      <th>death_yn</th>\n",
       "      <th>medcond_yn</th>\n",
       "    </tr>\n",
       "  </thead>\n",
       "  <tbody>\n",
       "    <tr>\n",
       "      <th>2</th>\n",
       "      <td>1.603393e+09</td>\n",
       "      <td>1.603566e+09</td>\n",
       "      <td>1.603393e+09</td>\n",
       "      <td>1.603393e+09</td>\n",
       "      <td>Laboratory-confirmed case</td>\n",
       "      <td>Female</td>\n",
       "      <td>0 - 9 Years</td>\n",
       "      <td>Black, Non-Hispanic</td>\n",
       "      <td>No</td>\n",
       "      <td>Missing</td>\n",
       "      <td>Missing</td>\n",
       "      <td>Missing</td>\n",
       "    </tr>\n",
       "    <tr>\n",
       "      <th>5</th>\n",
       "      <td>1.603307e+09</td>\n",
       "      <td>1.603566e+09</td>\n",
       "      <td>1.603393e+09</td>\n",
       "      <td>1.603307e+09</td>\n",
       "      <td>Laboratory-confirmed case</td>\n",
       "      <td>Female</td>\n",
       "      <td>0 - 9 Years</td>\n",
       "      <td>Black, Non-Hispanic</td>\n",
       "      <td>No</td>\n",
       "      <td>Missing</td>\n",
       "      <td>No</td>\n",
       "      <td>Missing</td>\n",
       "    </tr>\n",
       "    <tr>\n",
       "      <th>7</th>\n",
       "      <td>1.603220e+09</td>\n",
       "      <td>1.603566e+09</td>\n",
       "      <td>1.603393e+09</td>\n",
       "      <td>1.603220e+09</td>\n",
       "      <td>Laboratory-confirmed case</td>\n",
       "      <td>Female</td>\n",
       "      <td>0 - 9 Years</td>\n",
       "      <td>Black, Non-Hispanic</td>\n",
       "      <td>No</td>\n",
       "      <td>Missing</td>\n",
       "      <td>Missing</td>\n",
       "      <td>Missing</td>\n",
       "    </tr>\n",
       "    <tr>\n",
       "      <th>12</th>\n",
       "      <td>1.603307e+09</td>\n",
       "      <td>1.603307e+09</td>\n",
       "      <td>1.603393e+09</td>\n",
       "      <td>1.603307e+09</td>\n",
       "      <td>Laboratory-confirmed case</td>\n",
       "      <td>Female</td>\n",
       "      <td>0 - 9 Years</td>\n",
       "      <td>Black, Non-Hispanic</td>\n",
       "      <td>No</td>\n",
       "      <td>Unknown</td>\n",
       "      <td>No</td>\n",
       "      <td>No</td>\n",
       "    </tr>\n",
       "    <tr>\n",
       "      <th>21</th>\n",
       "      <td>1.603307e+09</td>\n",
       "      <td>1.603307e+09</td>\n",
       "      <td>1.603393e+09</td>\n",
       "      <td>1.603307e+09</td>\n",
       "      <td>Laboratory-confirmed case</td>\n",
       "      <td>Female</td>\n",
       "      <td>0 - 9 Years</td>\n",
       "      <td>Black, Non-Hispanic</td>\n",
       "      <td>No</td>\n",
       "      <td>Unknown</td>\n",
       "      <td>No</td>\n",
       "      <td>No</td>\n",
       "    </tr>\n",
       "    <tr>\n",
       "      <th>...</th>\n",
       "      <td>...</td>\n",
       "      <td>...</td>\n",
       "      <td>...</td>\n",
       "      <td>...</td>\n",
       "      <td>...</td>\n",
       "      <td>...</td>\n",
       "      <td>...</td>\n",
       "      <td>...</td>\n",
       "      <td>...</td>\n",
       "      <td>...</td>\n",
       "      <td>...</td>\n",
       "      <td>...</td>\n",
       "    </tr>\n",
       "    <tr>\n",
       "      <th>6439957</th>\n",
       "      <td>1.613502e+09</td>\n",
       "      <td>1.613502e+09</td>\n",
       "      <td>1.616785e+09</td>\n",
       "      <td>1.613502e+09</td>\n",
       "      <td>Laboratory-confirmed case</td>\n",
       "      <td>Female</td>\n",
       "      <td>60 - 69 Years</td>\n",
       "      <td>White, Non-Hispanic</td>\n",
       "      <td>Missing</td>\n",
       "      <td>Missing</td>\n",
       "      <td>Missing</td>\n",
       "      <td>Missing</td>\n",
       "    </tr>\n",
       "    <tr>\n",
       "      <th>6439958</th>\n",
       "      <td>1.612897e+09</td>\n",
       "      <td>1.612897e+09</td>\n",
       "      <td>1.616785e+09</td>\n",
       "      <td>1.612897e+09</td>\n",
       "      <td>Laboratory-confirmed case</td>\n",
       "      <td>Female</td>\n",
       "      <td>60 - 69 Years</td>\n",
       "      <td>White, Non-Hispanic</td>\n",
       "      <td>No</td>\n",
       "      <td>Missing</td>\n",
       "      <td>Missing</td>\n",
       "      <td>Missing</td>\n",
       "    </tr>\n",
       "    <tr>\n",
       "      <th>6439959</th>\n",
       "      <td>1.615835e+09</td>\n",
       "      <td>1.617044e+09</td>\n",
       "      <td>1.616785e+09</td>\n",
       "      <td>1.615835e+09</td>\n",
       "      <td>Probable Case</td>\n",
       "      <td>Female</td>\n",
       "      <td>60 - 69 Years</td>\n",
       "      <td>White, Non-Hispanic</td>\n",
       "      <td>Missing</td>\n",
       "      <td>Missing</td>\n",
       "      <td>No</td>\n",
       "      <td>No</td>\n",
       "    </tr>\n",
       "    <tr>\n",
       "      <th>6439960</th>\n",
       "      <td>1.615748e+09</td>\n",
       "      <td>1.617044e+09</td>\n",
       "      <td>1.616785e+09</td>\n",
       "      <td>1.615748e+09</td>\n",
       "      <td>Laboratory-confirmed case</td>\n",
       "      <td>Male</td>\n",
       "      <td>60 - 69 Years</td>\n",
       "      <td>White, Non-Hispanic</td>\n",
       "      <td>Yes</td>\n",
       "      <td>No</td>\n",
       "      <td>No</td>\n",
       "      <td>Yes</td>\n",
       "    </tr>\n",
       "    <tr>\n",
       "      <th>6439961</th>\n",
       "      <td>1.592507e+09</td>\n",
       "      <td>1.616958e+09</td>\n",
       "      <td>1.616872e+09</td>\n",
       "      <td>1.592507e+09</td>\n",
       "      <td>Laboratory-confirmed case</td>\n",
       "      <td>Male</td>\n",
       "      <td>60 - 69 Years</td>\n",
       "      <td>Unknown</td>\n",
       "      <td>Unknown</td>\n",
       "      <td>Unknown</td>\n",
       "      <td>Unknown</td>\n",
       "      <td>Unknown</td>\n",
       "    </tr>\n",
       "  </tbody>\n",
       "</table>\n",
       "<p>895077 rows × 12 columns</p>\n",
       "</div>"
      ],
      "text/plain": [
       "         cdc_case_earliest_dt   cdc_report_dt   pos_spec_dt      onset_dt  \\\n",
       "2                 1.603393e+09   1.603566e+09  1.603393e+09  1.603393e+09   \n",
       "5                 1.603307e+09   1.603566e+09  1.603393e+09  1.603307e+09   \n",
       "7                 1.603220e+09   1.603566e+09  1.603393e+09  1.603220e+09   \n",
       "12                1.603307e+09   1.603307e+09  1.603393e+09  1.603307e+09   \n",
       "21                1.603307e+09   1.603307e+09  1.603393e+09  1.603307e+09   \n",
       "...                        ...            ...           ...           ...   \n",
       "6439957           1.613502e+09   1.613502e+09  1.616785e+09  1.613502e+09   \n",
       "6439958           1.612897e+09   1.612897e+09  1.616785e+09  1.612897e+09   \n",
       "6439959           1.615835e+09   1.617044e+09  1.616785e+09  1.615835e+09   \n",
       "6439960           1.615748e+09   1.617044e+09  1.616785e+09  1.615748e+09   \n",
       "6439961           1.592507e+09   1.616958e+09  1.616872e+09  1.592507e+09   \n",
       "\n",
       "                    current_status     sex      age_group  \\\n",
       "2        Laboratory-confirmed case  Female    0 - 9 Years   \n",
       "5        Laboratory-confirmed case  Female    0 - 9 Years   \n",
       "7        Laboratory-confirmed case  Female    0 - 9 Years   \n",
       "12       Laboratory-confirmed case  Female    0 - 9 Years   \n",
       "21       Laboratory-confirmed case  Female    0 - 9 Years   \n",
       "...                            ...     ...            ...   \n",
       "6439957  Laboratory-confirmed case  Female  60 - 69 Years   \n",
       "6439958  Laboratory-confirmed case  Female  60 - 69 Years   \n",
       "6439959              Probable Case  Female  60 - 69 Years   \n",
       "6439960  Laboratory-confirmed case    Male  60 - 69 Years   \n",
       "6439961  Laboratory-confirmed case    Male  60 - 69 Years   \n",
       "\n",
       "        race_ethnicity_combined  hosp_yn   icu_yn death_yn medcond_yn  \n",
       "2           Black, Non-Hispanic       No  Missing  Missing    Missing  \n",
       "5           Black, Non-Hispanic       No  Missing       No    Missing  \n",
       "7           Black, Non-Hispanic       No  Missing  Missing    Missing  \n",
       "12          Black, Non-Hispanic       No  Unknown       No         No  \n",
       "21          Black, Non-Hispanic       No  Unknown       No         No  \n",
       "...                         ...      ...      ...      ...        ...  \n",
       "6439957     White, Non-Hispanic  Missing  Missing  Missing    Missing  \n",
       "6439958     White, Non-Hispanic       No  Missing  Missing    Missing  \n",
       "6439959     White, Non-Hispanic  Missing  Missing       No         No  \n",
       "6439960     White, Non-Hispanic      Yes       No       No        Yes  \n",
       "6439961                 Unknown  Unknown  Unknown  Unknown    Unknown  \n",
       "\n",
       "[895077 rows x 12 columns]"
      ]
     },
     "execution_count": 27,
     "metadata": {},
     "output_type": "execute_result"
    }
   ],
   "source": [
    "data = data.dropna(how='any')\n",
    "data['cdc_case_earliest_dt '] = data['cdc_case_earliest_dt '].apply(lambda x:time.mktime(datetime.datetime.strptime(x, \"%Y/%m/%d\").timetuple())) \n",
    "data['cdc_report_dt'] = data['cdc_report_dt'].apply(lambda x:time.mktime(datetime.datetime.strptime(x, \"%Y/%m/%d\").timetuple())) \n",
    "data['pos_spec_dt'] = data['pos_spec_dt'].apply(lambda x:time.mktime(datetime.datetime.strptime(x, \"%Y/%m/%d\").timetuple())) \n",
    "data['onset_dt'] = data['onset_dt'].apply(lambda x:time.mktime(datetime.datetime.strptime(x, \"%Y/%m/%d\").timetuple())) \n",
    "\n",
    "data"
   ]
  },
  {
   "cell_type": "code",
   "execution_count": 32,
   "metadata": {},
   "outputs": [
    {
     "name": "stderr",
     "output_type": "stream",
     "text": [
      "<ipython-input-32-2f2e01ca27f2>:1: SettingWithCopyWarning: \n",
      "A value is trying to be set on a copy of a slice from a DataFrame.\n",
      "Try using .loc[row_indexer,col_indexer] = value instead\n",
      "\n",
      "See the caveats in the documentation: https://pandas.pydata.org/pandas-docs/stable/user_guide/indexing.html#returning-a-view-versus-a-copy\n",
      "  data['sex'] = LabelEncoder().fit_transform(data['sex'])\n",
      "<ipython-input-32-2f2e01ca27f2>:2: SettingWithCopyWarning: \n",
      "A value is trying to be set on a copy of a slice from a DataFrame.\n",
      "Try using .loc[row_indexer,col_indexer] = value instead\n",
      "\n",
      "See the caveats in the documentation: https://pandas.pydata.org/pandas-docs/stable/user_guide/indexing.html#returning-a-view-versus-a-copy\n",
      "  data['race_ethnicity_combined'] = LabelEncoder().fit_transform(data['race_ethnicity_combined'])\n",
      "<ipython-input-32-2f2e01ca27f2>:3: SettingWithCopyWarning: \n",
      "A value is trying to be set on a copy of a slice from a DataFrame.\n",
      "Try using .loc[row_indexer,col_indexer] = value instead\n",
      "\n",
      "See the caveats in the documentation: https://pandas.pydata.org/pandas-docs/stable/user_guide/indexing.html#returning-a-view-versus-a-copy\n",
      "  data['age_group'] = LabelEncoder().fit_transform(data['age_group'])\n",
      "<ipython-input-32-2f2e01ca27f2>:4: SettingWithCopyWarning: \n",
      "A value is trying to be set on a copy of a slice from a DataFrame.\n",
      "Try using .loc[row_indexer,col_indexer] = value instead\n",
      "\n",
      "See the caveats in the documentation: https://pandas.pydata.org/pandas-docs/stable/user_guide/indexing.html#returning-a-view-versus-a-copy\n",
      "  data['hosp_yn'] = LabelEncoder().fit_transform(data['hosp_yn'])\n",
      "<ipython-input-32-2f2e01ca27f2>:5: SettingWithCopyWarning: \n",
      "A value is trying to be set on a copy of a slice from a DataFrame.\n",
      "Try using .loc[row_indexer,col_indexer] = value instead\n",
      "\n",
      "See the caveats in the documentation: https://pandas.pydata.org/pandas-docs/stable/user_guide/indexing.html#returning-a-view-versus-a-copy\n",
      "  data['icu_yn'] = LabelEncoder().fit_transform(data['icu_yn'])\n",
      "<ipython-input-32-2f2e01ca27f2>:6: SettingWithCopyWarning: \n",
      "A value is trying to be set on a copy of a slice from a DataFrame.\n",
      "Try using .loc[row_indexer,col_indexer] = value instead\n",
      "\n",
      "See the caveats in the documentation: https://pandas.pydata.org/pandas-docs/stable/user_guide/indexing.html#returning-a-view-versus-a-copy\n",
      "  data['death_yn'] = LabelEncoder().fit_transform(data['death_yn'])\n",
      "<ipython-input-32-2f2e01ca27f2>:7: SettingWithCopyWarning: \n",
      "A value is trying to be set on a copy of a slice from a DataFrame.\n",
      "Try using .loc[row_indexer,col_indexer] = value instead\n",
      "\n",
      "See the caveats in the documentation: https://pandas.pydata.org/pandas-docs/stable/user_guide/indexing.html#returning-a-view-versus-a-copy\n",
      "  data['medcond_yn'] = LabelEncoder().fit_transform(data['medcond_yn'])\n"
     ]
    }
   ],
   "source": [
    "data['sex'] = LabelEncoder().fit_transform(data['sex'])\n",
    "data['race_ethnicity_combined'] = LabelEncoder().fit_transform(data['race_ethnicity_combined'])\n",
    "data['age_group'] = LabelEncoder().fit_transform(data['age_group'])\n",
    "data['hosp_yn'] = LabelEncoder().fit_transform(data['hosp_yn'])\n",
    "data['icu_yn'] = LabelEncoder().fit_transform(data['icu_yn'])\n",
    "data['death_yn'] = LabelEncoder().fit_transform(data['death_yn'])\n",
    "data['medcond_yn'] = LabelEncoder().fit_transform(data['medcond_yn'])"
   ]
  },
  {
   "cell_type": "code",
   "execution_count": 33,
   "metadata": {},
   "outputs": [],
   "source": [
    "Y = data['current_status']\n",
    "X = data.drop('current_status',axis=1)"
   ]
  },
  {
   "cell_type": "code",
   "execution_count": 34,
   "metadata": {},
   "outputs": [],
   "source": [
    "X_train,X_test,y_train,y_test = train_test_split(X,Y,test_size=0.2)\n"
   ]
  },
  {
   "cell_type": "code",
   "execution_count": 35,
   "metadata": {},
   "outputs": [
    {
     "name": "stderr",
     "output_type": "stream",
     "text": [
      "/home/noman/.local/lib/python3.8/site-packages/sklearn/metrics/_classification.py:1221: UndefinedMetricWarning: Precision and F-score are ill-defined and being set to 0.0 in labels with no predicted samples. Use `zero_division` parameter to control this behavior.\n",
      "  _warn_prf(average, modifier, msg_start, len(result))\n"
     ]
    },
    {
     "data": {
      "text/plain": [
       "'                           precision    recall  f1-score   support\\n\\nLaboratory-confirmed case       0.94      1.00      0.97    167483\\n            Probable Case       0.00      0.00      0.00     11533\\n\\n                 accuracy                           0.94    179016\\n                macro avg       0.47      0.50      0.48    179016\\n             weighted avg       0.88      0.94      0.90    179016\\n'"
      ]
     },
     "execution_count": 35,
     "metadata": {},
     "output_type": "execute_result"
    }
   ],
   "source": [
    "mlp = MLPClassifier(activation='relu',hidden_layer_sizes=(32,64,128))\n",
    "mlp.fit(X_train,y_train)\n",
    "prediction = mlp.predict(X_test)\n"
   ]
  },
  {
   "cell_type": "code",
   "execution_count": 36,
   "metadata": {},
   "outputs": [
    {
     "name": "stdout",
     "output_type": "stream",
     "text": [
      "                           precision    recall  f1-score   support\n",
      "\n",
      "Laboratory-confirmed case       0.94      1.00      0.97    167483\n",
      "            Probable Case       0.00      0.00      0.00     11533\n",
      "\n",
      "                 accuracy                           0.94    179016\n",
      "                macro avg       0.47      0.50      0.48    179016\n",
      "             weighted avg       0.88      0.94      0.90    179016\n",
      "\n"
     ]
    }
   ],
   "source": [
    "print(classification_report(y_test,prediction))"
   ]
  },
  {
   "cell_type": "code",
   "execution_count": 38,
   "metadata": {},
   "outputs": [
    {
     "data": {
      "text/plain": [
       "0.935575591008625"
      ]
     },
     "execution_count": 38,
     "metadata": {},
     "output_type": "execute_result"
    }
   ],
   "source": [
    "accuracy_score(y_test,prediction)"
   ]
  },
  {
   "cell_type": "code",
   "execution_count": 40,
   "metadata": {},
   "outputs": [
    {
     "data": {
      "text/plain": [
       "array([[167483,      0],\n",
       "       [ 11533,      0]])"
      ]
     },
     "execution_count": 40,
     "metadata": {},
     "output_type": "execute_result"
    }
   ],
   "source": [
    "confusion_matrix(y_test,prediction)"
   ]
  },
  {
   "cell_type": "code",
   "execution_count": null,
   "metadata": {},
   "outputs": [],
   "source": []
  }
 ],
 "metadata": {
  "kernelspec": {
   "display_name": "Python 3.8.5 64-bit",
   "language": "python",
   "name": "python38564bitacdf04b404af410092b8e5edb049c06e"
  },
  "language_info": {
   "codemirror_mode": {
    "name": "ipython",
    "version": 3
   },
   "file_extension": ".py",
   "mimetype": "text/x-python",
   "name": "python",
   "nbconvert_exporter": "python",
   "pygments_lexer": "ipython3",
   "version": "3.8.5"
  }
 },
 "nbformat": 4,
 "nbformat_minor": 4
}
